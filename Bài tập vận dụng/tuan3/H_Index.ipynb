{
 "cells": [
  {
   "cell_type": "markdown",
   "metadata": {
    "id": "uxoVQvb5X0dc"
   },
   "source": [
    "# ***Đề bài***\n",
    "\n",
    "Làm thế nào để đánh giá sự thành công của một nhà khoa học?  \n",
    "\n",
    "Dựa vào số bài báo được công bố hay dựa vào số lần một bài báo được trích dẫn tới ở công trình của những người khác? Cả hai tham số đó đều quan trọng.\n",
    "\n",
    "Một bài báo có điểm số trích dẫn là **c** nếu nó được trích dẫn tới **c** lần trong các công trình của những nhà khoa học khác. Một trong số các cách đánh giá sự thành công của một nhà khoa học là tính chỉ số ảnh hưởng ***H_Index*** dựa trên sự kết hợp giữa số lượng bài báo và chỉ số trích dẫn của các bài báo đó.\n",
    "\n",
    "Chỉ số ***H_Index*** của một nhà khoa học bằng **k** lớn nhất nếu người đó có **k** bài báo, mỗi bài có điểm số trích dẫn không nhỏ hơn **k**. Ví dụ, một người có 10 bài báo, mỗi bài báo được trích dẫn không dưới 10 lần thì ***H_Index*** của người đó ít nhất là bằng 10.\n",
    "\n",
    "Một người có **n** bài báo, bài báo thứ **i** có điểm trích dẫn là **ci, i = 1 ÷ n**. Hãy xác định **H_Index** của người đó.\n",
    "\n",
    "Dữ liệu: Vào từ thiết bị nhập chuẩn:\n",
    "\n",
    "Dòng đầu tiên chứa một số nguyên **n** (1 ≤ **n** ≤ 5×105),\n",
    "Dòng thứ 2 chứa **n** số nguyên **c1, c2, . . ., cn** (0 ≤ **ci** ≤ 106, **i** = 1 ÷ **n**).\n",
    "Kết quả: Đưa ra thiết bị xuất chuẩn một số nguyên – **H_Index** tìm được.\n",
    "\n",
    "\n",
    "---\n",
    "\n",
    "\n",
    "\n",
    "\n",
    "\n",
    "### **1.Abstraction**\n",
    "\n",
    "\n",
    "*   Tìm số k lớn nhất sao cho có k phần tử trong dãy lớn hơn hoặc bằng k\n",
    "\n",
    "### **2.Pattern recognization**\n",
    "\n",
    "\n",
    "*   Sắp xếp và tìm kiếm tuần tự. \n",
    "*   Độ phức tạp O(k)\n",
    "\n",
    "### **3.Algorithm designed**\n",
    "\n",
    "> *3.1 INPUT:*            \n",
    "  n là số nguyên, $1 \\le n \\le 5 * 10^{5}  $  \n",
    "  c là mảng chứa n số nguyên c1, c2, . . ., cn $ 0 \\le ci \\le 10^{6}, i = 1 / n $\n",
    "  \n",
    "\n",
    "\n",
    "> *3.2 OUTPUT:*              \n",
    "k lớn nhất\n",
    "\n",
    "\n",
    "\n",
    "### **4.Programming:**\n",
    "\n",
    "\n",
    "\n",
    "\n",
    "\n",
    "\n",
    "\n",
    "\n",
    "\n",
    "\n",
    "\n",
    "\n",
    "\n",
    "\n",
    "\n",
    "\n",
    "\n",
    "\n",
    "\n",
    "\n",
    "\n",
    "\n"
   ]
  },
  {
   "cell_type": "code",
   "execution_count": null,
   "metadata": {
    "colab": {
     "base_uri": "https://localhost:8080/",
     "height": 67
    },
    "executionInfo": {
     "elapsed": 13168,
     "status": "ok",
     "timestamp": 1601441978555,
     "user": {
      "displayName": "Quang Nguyen Tuan",
      "photoUrl": "",
      "userId": "02209729283744905574"
     },
     "user_tz": -420
    },
    "id": "xkOSJ1zwfYeQ",
    "outputId": "1d0b9f12-e71b-4b2b-f57b-d7afb0b3ff4a"
   },
   "outputs": [
    {
     "name": "stdout",
     "output_type": "stream",
     "text": [
      "5\n",
      "8 5 3 4 10\n",
      "4\n"
     ]
    }
   ],
   "source": [
    "n = int(input())\n",
    "report = input().split()\n",
    "report = [int(i) for i in report]\n",
    "def check(report):\n",
    "    report.sort(reverse = True)\n",
    "    count = 0\n",
    "    for i in range(len(report)):\n",
    "        if i + 1 <= report[i]: count +=1\n",
    "        else: return count\n",
    "    return count\n",
    "print(check(report))"
   ]
  }
 ],
 "metadata": {
  "colab": {
   "authorship_tag": "ABX9TyNjzUD7bBokEq4PqlA20RUa",
   "collapsed_sections": [],
   "name": "H_IndexG6",
   "provenance": []
  },
  "kernelspec": {
   "display_name": "Python 3",
   "language": "python",
   "name": "python3"
  },
  "language_info": {
   "codemirror_mode": {
    "name": "ipython",
    "version": 3
   },
   "file_extension": ".py",
   "mimetype": "text/x-python",
   "name": "python",
   "nbconvert_exporter": "python",
   "pygments_lexer": "ipython3",
   "version": "3.7.6"
  }
 },
 "nbformat": 4,
 "nbformat_minor": 1
}

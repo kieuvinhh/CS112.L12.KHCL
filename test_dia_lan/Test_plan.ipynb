{
 "metadata": {
  "language_info": {
   "codemirror_mode": {
    "name": "ipython",
    "version": 3
   },
   "file_extension": ".py",
   "mimetype": "text/x-python",
   "name": "python",
   "nbconvert_exporter": "python",
   "pygments_lexer": "ipython3",
   "version": "3.8.2-final"
  },
  "orig_nbformat": 2,
  "kernelspec": {
   "name": "Python 3.8.2 32-bit",
   "display_name": "Python 3.8.2 32-bit",
   "metadata": {
    "interpreter": {
     "hash": "fdad3536ea352f6632f9e1be5fff30366e532e510026c53f31e325bb7ff98bb8"
    }
   }
  }
 },
 "nbformat": 4,
 "nbformat_minor": 2,
 "cells": [
  {
   "source": [
    "# Test Plan\n",
    "\n",
    "**Dữ liệu: Vào từ thiết bị nhập chuẩn:**\n",
    "\n",
    "* Dòng đầu tiên chứa 2 số nguyên n và k (1 ≤ n ≤ 2×10^4, 1 ≤ k ≤ n),\n",
    "* Dòng thứ 2 chứa n số nguyên a1, a2, . . ., an (0 ≤ ai < 2^12, i = 1 ÷ n).\n",
    "\n",
    "**Kết quả: Đưa ra thiết bị xuất chuẩn thông báo tìm được.**\n",
    "\n",
    "### 1. Trước tiên ta cần tìm ra tất cả các số trong khoảng 1 đến 2^12 sao cho các số này **AND** với nhau ra kết quả bằng 1 và lưu vào *file Ele_AND_1.txt*.\n",
    "\n",
    "### 1.1 Test1:\n",
    "* Test này kiểm tra tính đúng của code. Với n và k là những số nằm trong giới hạn. Và yêu cầu đề bài là phải thực hiện k phép **AND** liên tiếp ra kết quả bằng 0. Nên ở test này các phần tử của mảng a sẽ thuộc file *k_ele_AND_1*\n",
    "* **Input** 1 <= n <= 2*(10^4), 1<= k <= n.\n",
    "* **Output**: \"NO\"\n",
    "\n",
    "### 1.2 Test 2:\n",
    "* Test này kiểm tra tốc độ xử lý của code. Với n và k là những số lớn nhất được giới hạn.\n",
    "* **Input** n = k = 2*(10^4). Tất cả phần tử thuộc mảng a khi thực hiện phép **AND** sẽ cho ra kết quả bằng 0.\n",
    "* **Output**: \"YES\"\n",
    "\n",
    "### 1.3 Test 3:\n",
    "* Test này kiểm tra tốc độ xử lý của code. Với n và k là những số lớn nhất được giới hạn.\n",
    "* **Input** n = k = 2*(10^4). Tất cả phần tử thuộc mảng a khi thực hiện phép **AND** sẽ cho ra kết quả bằng 1.\n",
    "* **Output**: \"NO\"\n",
    "\n"
   ],
   "cell_type": "markdown",
   "metadata": {}
  }
 ]
}
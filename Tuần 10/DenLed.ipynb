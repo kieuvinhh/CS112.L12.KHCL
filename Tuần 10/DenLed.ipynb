{
 "cells": [
  {
   "cell_type": "markdown",
   "metadata": {},
   "source": [
    "# Đề bài\n",
    "### ĐÈN LED\n",
    "\n",
    "Alice vừa hoàn thành một hợp đồng lắp bảng hiển thị số bằng đèn LED. Mỗi chữ số được hiển thị trong một khung chữ nhật với 7 ống đèn LED. Bằng cách bật các ống đèn LED thích hợp ta có thể hiển thị chữ số bất kỳ. Số đèn sáng càng nhiều thì việc hiển thị chữ số đó càng tốn năng lượng. Ví dụ, hiển thị chữ số 9 sẽ tốn năng lượng hơn hiển thị chữ số 7.\n",
    "\n",
    "![alt text](https://raw.githubusercontent.com/kieuvinhh/CS112.L12.KHCL/master/Tu%E1%BA%A7n%2010/img.png)\n",
    "\n",
    "Sau khi bàn giao sản phẩm trong tay Alice còn thừa lại một số khá nhiều các khung hiển thị số và một cục pin nguồn. Dung lượng pin cho phép bật sáng n ống đèn LED. Alice muốn dùng pin bật đúng n ống đèn để hiển thị một số và số hiển thị được phải có tổng chữ số là lớn nhất.\n",
    "\n",
    "Hãy xác định tổng lớn nhất của các chữ số của số có thể bật sáng.\n",
    "\n",
    "Dữ liệu: Vào từ thiết bị nhập chuẩn gồm một dòng chứa số nguyên n (2 ≤ n ≤ 106).\n",
    "\n",
    "Kết quả: Đưa ra thiết bị xuất chuẩn một số nguyên – tổng lớn nhất đạt được.\n",
    "\n",
    "Ví dụ:\n",
    "\n",
    "| Input          | Output   |\n",
    "|----------------|----------|\n",
    "|       7        |   11     |"
   ]
  },
  {
   "cell_type": "markdown",
   "metadata": {},
   "source": [
    "## 1.Abstraction\n",
    "* Nhập vào một số n ống đèn. Tìm chuỗi số sao cho tổng các chữ số là lớn nhất.\n",
    "\n",
    "## 2.Pattern Recognization\n",
    "* Toán học.\n",
    "\n",
    "## 3.Algorithm Designed\n",
    "\n",
    "* Sau khi chắt lọc từ bài toán ta nhận thấy rằng chỉ cần xử lý 3 trường hợp.\n",
    "\n",
    "Ta thấy rằng chữ số 7 là chữ số chênh lệch giữa giá trị ống đèn và giá trị chữ số là lớn nhất. Nên chữ số nhập vào sẽ ưu tiên chọn chữ số 7. \n",
    "\n",
    "* TH1: n chia hết cho 3.\n\n",
    "\n",
    "- Trả về giá trị của (n/3) * 7. Do có thể tìm được n / 3 chữ số 7.\n",
    "\n",
    "* TH2: Trường hợp chia 3 dư 1.\n\n",
    "\n",
    "- Vậy thì (n - 2) / 3 sẽ dư 4. Và 4 bóng đèn có thể xếp thanh chữ số 4. Nên trường hợp tối ưu nhất sẽ là (n - 2) // 3 * 7 + 4 (do có thể xếp đc n - 2 số 7 và 1 số 4).\n",
    "\n",
    "* TH3: Trường hợp chia 3 dư 2.\n\n",
    "\n",
    "- Do số dư là 2 có thể xếp được 1 chữ số 1. Nên tối ưu nhất vẫn sẽ là xếp được (n-2)//3 * 7 + 1(do có thể xếp được n - 2 số 7 và 1 số 1)."
   ]
  },
  {
   "cell_type": "markdown",
   "metadata": {},
   "source": [
    "## 4. Code\n",
    "``` php\n",
    "\n",
    "n = int(input().strip())\n",
    "\n",
    "\n",
    "def solution(n):\n",
    "    remain = n % 3\n",
    "    if remain == 0:\n",
    "        return (n//3)*7\n",
    "    elif remain == 1:\n",
    "        return ((n-2)//3)*7 + 4\n",
    "    elif remain == 2:\n",
    "        return ((n-2)//3)*7 + 1\n",
    "\n",
    "\n",
    "print(solution(n))\n",
    "\n",
    "```"
   ]
  }
 ],
 "metadata": {
  "kernelspec": {
   "display_name": "Python 3",
   "language": "python",
   "name": "python3"
  },
  "language_info": {
   "codemirror_mode": {
    "name": "ipython",
    "version": 3
   },
   "file_extension": ".py",
   "mimetype": "text/x-python",
   "name": "python",
   "nbconvert_exporter": "python",
   "pygments_lexer": "ipython3",
   "version": "3.7.6"
  }
 },
 "nbformat": 4,
 "nbformat_minor": 4
}

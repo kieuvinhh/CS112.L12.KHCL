{
 "cells": [
  {
   "cell_type": "markdown",
   "metadata": {},
   "source": [
    "# Abstraction\n",
    "* Nhập vào các số nguyên a, k, b, m, n, tìm giá trị mid nhỏ nhất sao cho (a+b)*mid-a*(mid//k)-b*(mid//m) >= n\n",
    "\n",
    "# Pattern Recognition\n",
    "* Tìm kiếm nhị phân\n",
    "\n",
    "# Psuedo Code\n",
    "\n",
    "Input: 5 integer a, k, b, m và n (1 ≤ a, b ≤ 10^9, 2 ≤ k, m ≤ 10^18, 1 ≤ n ≤ 10^18)\n",
    "\n",
    "Output: value x satify condition: (a+b)*x-a*(x/k)-b*(x/m)>=n\n",
    "\n",
    "\n",
    "  START:\n",
    "  \n",
    "  call function(mid) = (a+b)*mid-a*(mid//k)-b*(mid//m)>=n\n",
    "  \n",
    "  result <- 0\n",
    "  \n",
    "  left <- 0\n",
    "  \n",
    "  right <- 10**18\n",
    "  \n",
    "  while left <= right then:\n",
    "  \n",
    "    mid <- (left + right)//2\n",
    "    \n",
    "    if function(mid) equal to True:\n",
    "    \n",
    "      result <- mid\n",
    "      \n",
    "      right <- mid - 1\n",
    "      \n",
    "    end\n",
    "    \n",
    "    else:\n",
    "    \n",
    "      left <- mid + 1\n",
    "      \n",
    "  output(result)\n",
    "  \n",
    "  END:\n"
   ]
  },
  {
   "cell_type": "markdown",
   "metadata": {},
   "source": [
    "# Code"
   ]
  },
  {
   "cell_type": "code",
   "execution_count": 3,
   "metadata": {},
   "outputs": [
    {
     "name": "stdout",
     "output_type": "stream",
     "text": [
      "2 4 3 3 25\n",
      "7\n"
     ]
    }
   ],
   "source": [
    " def function(mid):\n",
    "        return (a+b)*mid-a*(mid//k)-b*(mid//m)>=n\n",
    "\n",
    "a,k,b,m,n=map(int,input().split())\n",
    "left, right\t= 1, 10**18\n",
    "res = 0\n",
    "while left <= right:\n",
    "    mid = ( left + right ) // 2\n",
    "    if function(mid):\n",
    "        res=mid\n",
    "        right = mid - 1\n",
    "    else:\n",
    "        left = mid + 1\n",
    "\n",
    "print(int(res))"
   ]
  },
  {
   "cell_type": "markdown",
   "metadata": {},
   "source": [
    "| Input          | Output   |\n",
    "|----------------|----------|\n",
    "| 2 4 3 3 25     |    7     |"
   ]
  },
  {
   "cell_type": "code",
   "execution_count": null,
   "metadata": {},
   "outputs": [],
   "source": []
  }
 ],
 "metadata": {
  "kernelspec": {
   "display_name": "Python 3",
   "language": "python",
   "name": "python3"
  },
  "language_info": {
   "codemirror_mode": {
    "name": "ipython",
    "version": 3
   },
   "file_extension": ".py",
   "mimetype": "text/x-python",
   "name": "python",
   "nbconvert_exporter": "python",
   "pygments_lexer": "ipython3",
   "version": "3.7.6"
  }
 },
 "nbformat": 4,
 "nbformat_minor": 4
}

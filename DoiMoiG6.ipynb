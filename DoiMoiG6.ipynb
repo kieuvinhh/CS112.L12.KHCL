{
 "cells": [
  {
   "cell_type": "markdown",
   "metadata": {},
   "source": [
    "# Đề bài\n",
    "\n",
    "ĐỔI MỚI\n",
    "\n",
    "Thành phố quyết định chặt hạ hết n cây xanh hiện có trong thành phố để trồng chỉ một loại cây mới. Nhiệm vụ được giao cho Công ty Cây xanh thành phố. Do hạn chế về thiết bị Công ty chỉ tổ chức được 2 đội đốn hạ cây. Đội I hạ được a cây mỗi ngày, nhưng cứ mối ngày thứ k thì phải nghỉ để bảo dưỡng kỹ thuật, tức là đội I sẽ nghỉ vào các ngày k, 2k, 3k, . . . Đội II hạ được b cây mỗi ngày, nhưng cứ mỗi ngày thứ m thì phải nghỉ để bảo dưỡng kỹ thuật, tức là đội II sẽ nghỉ vào các ngày m, 2m, 3m, . . . Ở ngày nghỉ, số cây chặt hạ của đội sẽ là 0. Cả hai đội bắt đầu công việc vào cùng một ngày và làm việc song song với nhau.\n",
    "\n",
    "Công việc trồng cây mới sẽ bắt đầu sau khi toàn bộ cây cũ đã bị đốn hạ.\n",
    "\n",
    "Hãy xác định sau bao nhiêu ngày thì có thể bắt đầu việc trồng mới cây.\n",
    "\n",
    "Dữ liệu: Vào từ thiết bị nhập chuẩn gồm một dòng chứa 5 số nguyên a, k, b, m và n (1 ≤ a, b ≤ 10^9, 2 ≤ k, m ≤ 10^18, 1 ≤ n ≤ 10^18).\n",
    "\n",
    "Kết quả: Đưa ra thiết bị xuất chuẩn một số nguyên – số ngày tính được.\n",
    "\n",
    "\n",
    "| Input          | Output   |\n",
    "|----------------|----------|\n",
    "| 2 4 3 3 25     |    7     |"
   ]
  },
  {
   "cell_type": "markdown",
   "metadata": {},
   "source": [
    "# 1. Abstraction\n",
    "* Nhập vào các số nguyên a, k, b, m, n, tìm giá trị mid nhỏ nhất sao cho (a+b)*mid-a*(mid//k)-b*(mid//m) >= n\n",
    "\n",
    "# 2. Pattern Recognition\n",
    "* Tìm kiếm nhị phân\n",
    "\n",
    "# 3. Psuedo Code\n",
    "\n",
    "Input: 5 integer a, k, b, m và n (1 ≤ a, b ≤ 10^9, 2 ≤ k, m ≤ 10^18, 1 ≤ n ≤ 10^18)\n",
    "\n",
    "Output: value x satify condition: (a+b)*x-a*(x/k)-b*(x/m)>=n\n",
    "\n",
    "\n",
    "  START:\n",
    "  \n",
    "  call function(mid) = (a+b)*mid-a*(mid//k)-b*(mid//m)>=n\n",
    "  \n",
    "  result <- 0\n",
    "  \n",
    "  left <- 0\n",
    "  \n",
    "  right <- 10**18\n",
    "  \n",
    "  while left <= right then:\n",
    "  \n",
    "    mid <- (left + right)//2\n",
    "    \n",
    "    if function(mid) equal to True:\n",
    "    \n",
    "      result <- mid\n",
    "      \n",
    "      right <- mid - 1\n",
    "      \n",
    "    end\n",
    "    \n",
    "    else:\n",
    "    \n",
    "      left <- mid + 1\n",
    "      \n",
    "  output(result)\n",
    "  \n",
    "  END:\n"
   ]
  },
  {
   "cell_type": "markdown",
   "metadata": {},
   "source": [
    "# 4. Code"
   ]
  },
  {
   "cell_type": "code",
   "execution_count": 1,
   "metadata": {},
   "outputs": [
    {
     "name": "stdout",
     "output_type": "stream",
     "text": [
      "2 4 3 3 25\n",
      "7\n"
     ]
    }
   ],
   "source": [
    " def function(mid):\n",
    "        return (a+b)*mid-a*(mid//k)-b*(mid//m)>=n\n",
    "\n",
    "a,k,b,m,n=map(int,input().split())\n",
    "left, right\t= 1, 10**18\n",
    "res = 0\n",
    "while left <= right:\n",
    "    mid = ( left + right ) // 2\n",
    "    if function(mid):\n",
    "        res=mid\n",
    "        right = mid - 1\n",
    "    else:\n",
    "        left = mid + 1\n",
    "\n",
    "print(int(res))"
   ]
  },
  {
   "cell_type": "code",
   "execution_count": null,
   "metadata": {},
   "outputs": [],
   "source": []
  }
 ],
 "metadata": {
  "kernelspec": {
   "display_name": "Python 3",
   "language": "python",
   "name": "python3"
  },
  "language_info": {
   "codemirror_mode": {
    "name": "ipython",
    "version": 3
   },
   "file_extension": ".py",
   "mimetype": "text/x-python",
   "name": "python",
   "nbconvert_exporter": "python",
   "pygments_lexer": "ipython3",
   "version": "3.7.6"
  }
 },
 "nbformat": 4,
 "nbformat_minor": 4
}

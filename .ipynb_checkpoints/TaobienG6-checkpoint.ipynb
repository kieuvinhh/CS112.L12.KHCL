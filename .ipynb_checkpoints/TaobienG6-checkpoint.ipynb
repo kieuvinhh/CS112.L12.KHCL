{
 "cells": [
  {
   "cell_type": "markdown",
   "metadata": {
    "colab_type": "text",
    "id": "uxoVQvb5X0dc"
   },
   "source": [
    "# ***Đề bài***\n",
    "\n",
    "Tảo biển sinh sản rất nhanh khi có môi trường thuận lợi với chúng và có những loài còn tiết ra môi trường những chất độc hại.\n",
    "\n",
    "Một loại tảo nâu trong môi trường nước bị ô nhiễm nặng sinh sản theo quy luật sau:\n",
    "\n",
    "* Ngày đầu tiên (ngày 0) có n cá thể ở mức $1$,\n",
    "* Ở mỗi ngày tiếp theo, mỗi cá thể mức $i$ sinh ra i cá thể mức $1$, các cá thể mới sinh sẽ sinh sôi, phát triển từ ngày hôm sau.\n",
    "* Bản thân các cá thể mức $i$ phát triển thành mức $i+1$ và chu kỳ phát triển trong ngày chấm dứt. Hãy xác định sau k ngày trong nước biển có bao nhiêu cá thể.\n",
    "\n",
    "***Dữ liệu:*** Vào từ thiết bị nhập chuẩn gồm một dòng chứa 2 số nguyên n và k  ($1 \\le n \\le 1000, 1 \\le k \\le 10^{18}$).\n",
    "\n",
    "***Kết quả:*** Đưa ra thiết bị xuất chuẩn một số nguyên – số lượng cá thể tảo theo mô đun $10^9+7$.\n",
    "\n",
    "---\n",
    "\n",
    "\n",
    "\n",
    "\n",
    "\n",
    "### **1.Abstraction**\n",
    "\n",
    "\n",
    "*   Từ n cá thể, tìm tổng số lượng sau lần lặp thứ k với F(2k) trong đó F(i) là số Fibonacci thứ i\n",
    "\n",
    "### **2.Pattern recognization**\n",
    "\n",
    "\n",
    "*   Dãy số Fibonacci\n",
    "\n",
    "### **3.Algorithm designed**\n",
    "\n",
    "> *3.1 INPUT:*            \n",
    "  n là số nguyên, $1 \\le n \\le 1000  $  \n",
    "  k là số nguyên, ($ 1 \\le k \\le 10^{18}$)  \n",
    "  \n",
    "\n",
    "\n",
    "> *3.2 Khởi tạo:*  \n",
    "F là mảng Fibonacci, F[ i ] với i = 2k + 1 \n",
    "\n",
    "\n",
    "\n",
    "\n",
    "> *3.4 RESULT:*\n",
    "Giá trị của n số Fibonacci ở vị trí F [ 2k ]\n",
    "\n",
    "### **4.Programming:**\n",
    "\n",
    "\n",
    "\n",
    "\n",
    "\n",
    "\n",
    "\n",
    "\n",
    "\n",
    "\n",
    "\n",
    "\n",
    "\n",
    "\n",
    "\n",
    "\n",
    "\n",
    "\n",
    "\n",
    "\n",
    "\n",
    "\n"
   ]
  },
  {
   "cell_type": "code",
   "execution_count": 1,
   "metadata": {
    "colab": {
     "base_uri": "https://localhost:8080/",
     "height": 50
    },
    "colab_type": "code",
    "executionInfo": {
     "elapsed": 6366,
     "status": "ok",
     "timestamp": 1600884650163,
     "user": {
      "displayName": "Quang Nguyen Tuan",
      "photoUrl": "",
      "userId": "02209729283744905574"
     },
     "user_tz": -420
    },
    "id": "xkOSJ1zwfYeQ",
    "outputId": "30116324-080f-4c39-bd4b-cb73a7fe8064"
   },
   "outputs": [
    {
     "name": "stdout",
     "output_type": "stream",
     "text": [
      "3 2\n",
      "15\n"
     ]
    }
   ],
   "source": [
    "def f(n):\n",
    "    a, b = 0, 1\n",
    "    for i in range(0, n):\n",
    "        a, b = b, a + b\n",
    "    return a\n",
    "\n",
    "n, k = map(int, input().split(' '))\n",
    "\n",
    "print(int(n*f(2*k+1)%1000000007))"
   ]
  }
 ],
 "metadata": {
  "colab": {
   "authorship_tag": "ABX9TyOPVINVZgnu+O7DC3fIpLlX",
   "collapsed_sections": [],
   "name": "TaobienG6",
   "provenance": []
  },
  "kernelspec": {
   "display_name": "Python 3",
   "language": "python",
   "name": "python3"
  },
  "language_info": {
   "codemirror_mode": {
    "name": "ipython",
    "version": 3
   },
   "file_extension": ".py",
   "mimetype": "text/x-python",
   "name": "python",
   "nbconvert_exporter": "python",
   "pygments_lexer": "ipython3",
   "version": "3.7.6"
  }
 },
 "nbformat": 4,
 "nbformat_minor": 1
}

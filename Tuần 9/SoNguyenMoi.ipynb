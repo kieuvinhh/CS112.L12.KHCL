{
 "cells": [
  {
   "cell_type": "markdown",
   "metadata": {},
   "source": [
    "# Đề bài\n",
    "## SỐ NGUYÊN MỚI\n",
    "Cho số nguyên dương n có không quá 100 chữ số. Hãy xác định số nguyên lớn nhất m chia hết cho 3 và khác n ở đúng một chữ số.\n",
    "\n",
    "Ví dụ, n = 123 thì m sẽ là 723.\n",
    "\n",
    "Dữ liệu: Vào từ thiết bị nhập chuẩn gồm một dòng chứa số nguyên n có không quá 100 chữ số và không chứa các số 0 không có nghĩa.\n",
    "\n",
    "Kết quả: Đưa ra thiết bị xuất chuẩn số nguyên m tìm được.\n",
    "\n",
    "Ví dụ:\n",
    "\n",
    "| Input          | Output   |\n",
    "|----------------|----------|\n",
    "|      123       |   723    |"
   ]
  },
  {
   "cell_type": "markdown",
   "metadata": {},
   "source": [
    "## 1.Abstraction\n",
    "* Nhập vào số n. Xuất ra số m lớn nhất tìm được sao cho m chia hết cho 3 và m là số lớn nhất tìm được.\n",
    "\n",
    "## 2.Pattern Recognization\n",
    "* Vét cạn (Brute Force).\n",
    "\n",
    "## 3.Algorithm Designed\n",
    "\n"
   ]
  },
  {
   "cell_type": "markdown",
   "metadata": {},
   "source": [
    "## 4. Code\n",
    "``` php\n",
    "\n",
    "n = input().strip()\n",
    "\n",
    "\n",
    "def solution(n):\n",
    "    if len(n) == 1:\n",
    "        if int(n) == 9:\n",
    "            return '6'\n",
    "        return '9'\n",
    "    ls = [int(i) for i in n]\n",
    "    for i in range(len(ls) - 1):\n",
    "        for j in range(9, ls[i], -1):\n",
    "            if j == ls[i]:\n",
    "                continue\n",
    "            temp = ls[i]\n",
    "            ls[i] = j\n",
    "            check = sum(ls)\n",
    "            if check % 3 == 0:\n",
    "                return ''.join(map(str, ls))\n",
    "            else:\n",
    "                ls[i] = temp\n",
    "\n",
    "    for i in range(9, 0, -1):\n",
    "        temp = ls[len(ls)-1]\n",
    "        if i == ls[len(ls) - 1]:\n",
    "            continue\n",
    "        ls[len(ls) - 1] = i\n",
    "        check = sum(ls)\n",
    "        if check % 3 == 0:\n",
    "            return ''.join(map(str, ls))\n",
    "        else:\n",
    "            ls[len(ls)-1] = temp\n",
    "\n",
    "\n",
    "print(solution(n))\n",
    "\n",
    "```"
   ]
  }
 ],
 "metadata": {
  "kernelspec": {
   "display_name": "Python 3",
   "language": "python",
   "name": "python3"
  },
  "language_info": {
   "codemirror_mode": {
    "name": "ipython",
    "version": 3
   },
   "file_extension": ".py",
   "mimetype": "text/x-python",
   "name": "python",
   "nbconvert_exporter": "python",
   "pygments_lexer": "ipython3",
   "version": "3.7.6"
  }
 },
 "nbformat": 4,
 "nbformat_minor": 4
}
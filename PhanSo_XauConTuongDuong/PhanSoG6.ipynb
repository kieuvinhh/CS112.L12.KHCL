{
 "metadata": {
  "language_info": {
   "codemirror_mode": {
    "name": "ipython",
    "version": 3
   },
   "file_extension": ".py",
   "mimetype": "text/x-python",
   "name": "python",
   "nbconvert_exporter": "python",
   "pygments_lexer": "ipython3",
   "version": 3
  },
  "orig_nbformat": 2
 },
 "nbformat": 4,
 "nbformat_minor": 2,
 "cells": [
  {
   "source": [
    "# Đề bài:\n",
    "PHÂN SỐ\n",
    "\n",
    "Cho 2 phân số đúng và tối giản a/b , c/d  .Mỗi phép biến đổi là tăng a và b lên 1, sau đó giản ước phân số nhận được.\n",
    "\n",
    "Hãy xác định sau bao nhiêu bước biến đổi từ phân số thứ nhất ban đầu nhận được phân số thứ 2 đã cho.\n",
    "\n",
    "Dữ liệu: Vào từ thiết bị nhập chuẩn gồm 4 dòng, mỗi dòng chứa 1 số nguyên a, b, c, d, 0 < a < b ≤10^5, 0 < c < d ≤ 10^5, a và b nguyên tố cùng nhau, c và d nguyên tố cùng nhau  a/b ≠ c/.\n",
    "\n",
    "Kết quả: Đưa ra thiết bị xuất chuẩn số 0 nếu không có cách biến đổi hoặc một số nguyên – số lượng phép biến đổi.\n",
    "\n",
    "Ví dụ:\n",
    "\n",
    "| Input | Output |\n",
    "|-------|--------|\n",
    "|1 3 4 6|   5    |"
   ],
   "cell_type": "markdown",
   "metadata": {}
  },
  {
   "source": [
    "## 1.Abstraction\n",
    "* Nhập vào 4 số a, b, c, d. Tìm số cách biến đổi từ phân số a/b thành phân số c/d. Mỗi lần biến đổi ta tăng a và b lên 1 đơn vị, sau đó tối giản phân số a/b.\n",
    "## 2.Pattern recognization\n",
    "* So sánh và tìm ước chung lớn nhất.\n",
    "## 3.Algorithm designed\n",
    "Do không thể biết trước được số lần lặp nên bài này cần được sử dụng vòng lặp while, ở mỗi vòng lặp do chỉ có a, b thay đổi con c và d thì không nên để tối ưu thời gian ta tính trước temp = c/d (đỡ được 1 phép tính mỗi lần lặp).\n",
    "* Bước 1: tăng a và b lên 1 đơn vị.\n",
    "* Bước 2: chia a, b cho ước chung lớn nhất của a và b.\n",
    "* Bước 3: tăng biến đếm lên 1 đơn vị.\n",
    "* Bước 4: lặp lại bước 1 đến khi a/b >= c/d thì dừng lại. Nếu a/b == c/d trả về giá trị của biến đếm. Nếu a/b > c/d (tức là không tồn tại a/b == c/d) thì trả về 0\n",
    "## 4. Code\n",
    "```php \n",
    "import math\n",
    "a = int(input())\n",
    "b = int(input())\n",
    "c = int(input())\n",
    "d = int(input())\n",
    "\n",
    "\n",
    "def solution(a, b, c, d):\n",
    "    cnt = 0\n",
    "    temp = c/d\n",
    "    while a/b < temp:\n",
    "        a += 1\n",
    "        b += 1\n",
    "        g = math.gcd(a, b)\n",
    "        a //= g\n",
    "        b //= g\n",
    "        cnt += 1\n",
    "    if a/b > c/d:\n",
    "        return 0\n",
    "    return cnt\n",
    "\n",
    "\n",
    "print(solution(a, b, c, d))\n",
    "```"
   ],
   "cell_type": "markdown",
   "metadata": {}
  }
 ]
}
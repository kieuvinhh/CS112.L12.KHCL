{
 "cells": [
  {
   "cell_type": "markdown",
   "metadata": {},
   "source": [
    "# Đề bài\n",
    "MỨC ĐỘ GIỐNG NHAU (0.2s, 50MB)\n",
    "\n",
    "Một quần thể sinh vật ngoài hành tinh có gene tạo thành từ 26 cơ sở ký hiệu từ A tới Z. Mỗi gene là một xâu ký tự các chữ cái la tinh hoa. Hai cá thể khác nhau có gene khác nhau. Mức độ giống nhau của 2 gene sẽ xác định độ huyết thống của chúng.\n",
    "\n",
    "Độ giống nhau của gene thứ nhất đối với gene thứ 2 là số lượng cặp 2 cơ sở liên tiếp nhau trong gene thứ nhất đồng thời là cặp 2 cơ sở liên tiếp nhau trong gene thứ hai.\n",
    "\n",
    "\n",
    "\n",
    " \n",
    "\n",
    "Ví dụ, gene thứ nhất là ABBACAB, gene thứ 2 là BCABB thì mức độ giống nhau là 4.\n",
    "\n",
    " \n",
    "\n",
    "Cho hai gene. Hãy xác định mức độ giống nhau của gene thứ nhất với gene thứ 2.\n",
    "\n",
    "Dữ liệu: Vào từ thiết bị nhập chuẩn bao gồm 2 dòng chứa 2 xâu khác rỗng xác định gene thứ nhất và gene thứ 2, mỗi xâu chỉ chứa các ký tự chữ cái in hoa và có độ dài không quá 105.\n",
    "\n",
    "Kết quả: Đưa ra thiết bị xuất chuẩn một số nguyên – mức độ giống nhau của 2 genes.\n",
    "**Ví dụ:**\n",
    "\n",
    "| Input | Output |\n",
    "|-------|--------|\n",
    "|ABBACAB|  4     |\n",
    "| BCABB |        |"
   ]
  },
  {
   "cell_type": "markdown",
   "metadata": {},
   "source": [
    "## 1.Abstraction\n",
    "* Nhập vào 2 xâu kí tự gene1 và gene2. Đếm số cặp kí tự liên tiếp xuất hiện trong gene1 giống với các cặp kí tự liên tiếp trong gene2.\n",
    "\n",
    "## 2.Pattern Recognization\n",
    "* So sánh và tìm kiếm tuần tự.\n",
    "* Độ phức tạp O(n).\n",
    "\n",
    "## 3.Algorithm Designed\n",
    "* Theo đề bài thì ta chỉ cần đếm các cặp kí tự liên tiếp trong gene1 mà cặp kí tự đó cũng xuất hiện trong gene2. Nên các cặp kí tự lặp lại của gene2 không cần tính, do đó ta sử dụng cấu trúc dữ liệu set để tối ưu thời gian so sánh (Do các cặp kí tự trong gene2 có thể trùng nhau)."
   ]
  },
  {
   "cell_type": "markdown",
   "metadata": {},
   "source": [
    "# 4.Code:\n",
    "```php\n",
    "gene1 = input().strip()\n",
    "gene2 = input().strip()\n",
    "def solution(gene1, gene2):\n",
    "\tcount = 0\n",
    "\tset1 = set()\n",
    "\tfor i in range(len(gene2)-1):\n",
    "\t\ttemp = gene2[i] + gene2[i+1]\n",
    "\t\tset1.add(temp)\n",
    "\tfor i in range(len(gene1)-1):\n",
    "\t\tcheck = gene1[i] + gene1[i+1]\n",
    "\t\tif check in set1:\n",
    "\t\t\tcount +=1\n",
    "\treturn count\n",
    "print(solution(gene1,gene2))\n",
    "```"
   ]
  },
  {
   "cell_type": "code",
   "execution_count": null,
   "metadata": {},
   "outputs": [],
   "source": []
  }
 ],
 "metadata": {
  "kernelspec": {
   "display_name": "Python 3.8.2 32-bit",
   "language": "python",
   "name": "python38232bitc885f763cd514ce5906e3a6fe10bfa75"
  },
  "language_info": {
   "codemirror_mode": {
    "name": "ipython",
    "version": 3
   },
   "file_extension": ".py",
   "mimetype": "text/x-python",
   "name": "python",
   "nbconvert_exporter": "python",
   "pygments_lexer": "ipython3",
   "version": "3.8.2"
  }
 },
 "nbformat": 4,
 "nbformat_minor": 4
}

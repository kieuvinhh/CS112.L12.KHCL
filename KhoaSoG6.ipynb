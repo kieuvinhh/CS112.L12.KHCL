{
 "cells": [
  {
   "cell_type": "markdown",
   "metadata": {},
   "source": [
    "# Đề bài\n",
    "### KHÓA SỐ (0.15s, 100MB)\n",
    "\n",
    "Để tăng độ an toàn chống hiện tượng cướp ngân hàng ngày càng phổ biến người ta dùng khóa số với mã mở khóa đơn giản nhưng rất hiệu quả. Trên cửa ra vào hiển thị một xâu khá dài các ký tự số. Các chữ số có thể di chuyển đổi chổ cho nhau hoặc bị xóa. Muốn mở khóa người ta phải di chuyển các chữ số và trong trường hợp cần thiết – xóa vài chữ số để nhận được xâu lớn nhất thỏa mãn điều kiện đã cài đặt. Điều kiện này được thay đổi thường xuyên. Hôm nay điều kiện đó là “Số nhận được phải chia hết cho 3”. Số nhận được có thể bắt đầu bằng các chữ số 0. Xâu “000” sẽ lớn hơn xâu “00”.\n",
    "\n",
    "Hãy xác định khóa mở cửa.\n",
    "\n",
    "Dữ liệu: Vào từ thiết bị nhập chuẩn gồm một xâu ký tự số có độ dài lớn hơn 2 và không vượt quá 10^5.\n",
    "\n",
    "Kết quả: Đưa ra thiết bị xuất chuẩn xâu khóa mở cửa.\n",
    "\n",
    "| Input          | Output   |\n",
    "|----------------|----------|\n",
    "|      105       |   510    |"
   ]
  },
  {
   "cell_type": "markdown",
   "metadata": {},
   "source": [
    "## 1.Abstraction\n",
    "* Nhập vào một xâu kí tự số. Tìm chuỗi số dài nhất sao cho tổng của nó chia hết cho 3.\n",
    "\n",
    "## 2.Pattern Recognization\n",
    "* Sắp xếp và tìm kiếm tuần tự.\n",
    "* Độ phức tạp O(n^2)\n",
    "\n",
    "## 3.Algorithm Designed\n",
    "Khi chia một số cho 3 sẽ xảy ra 3 trường hợp:\n",
    "1. Chia 3 dư 0.(chia 3 dư 0).\n",
    "2. Chia 3 dư 1.\n",
    "3. Chia 3 dư 2.\n",
    "\n",
    "Gọi tổng các chữ số trong chuỗi đầu vào là Sum_arr. Để dễ thao tác với từng kí tự chữ số trong chuỗi input. Ta cần đưa các ký tự chữ số của chuỗi vào list arr. Ta nhận thấy rằng tổng các số chia hết cho 3 thì chia hết cho 3. Cho nên những trường hợp chia 3 mà có dư là do các số **không** chia hết cho 3 gây ra. Để giảm độ phực tạp của bài toán này ta cần phải tập hợp các ký tự số **không** chia hết cho 3 trong mảng đầu vào thành 1 list.\n",
    "###### TH 1:\n",
    "* Đây là trường hợp đơn giản nhất. Khi tổng các chữ số trong chuỗi đầu vào chia hết cho 3. Ta chỉ cần return chuỗi ban đầu sau khi đã sắp xếp từ lớn đến bé.\n",
    "\n",
    "###### TH 2:\n",
    "* Ở TH này chúng ta duyệt qua một lần của mảng đầu vào, nếu tồn tại arr[i] (i = 0 ÷ n) chia cho 3 dư **x** và Sum_arr chia 3 cũng dư **x**. Lúc này ta phải remove arr[i] khỏi list. Trả về chuỗi sau khi đã sắp xếp từ lớn đến bé.\n",
    "\n",
    "###### TH 3:\n",
    "* Sau khi đã duyệt qua 2 trường hợp trên mà vẫn không tìm ra được đáp án thì ta có thể chắc chắn rằng tồn tại 2 phần tử trong list làm cho Sum_arr không chia hết cho 3. Dùng 2 vòng for i, j để tìm ra 2 phần tử này. Nếu tổng của arr[i] và arr[j] ( i = 0 ÷ n, j = i+1 ÷ n) thì ra sẽ remove 2 ký tự này ra khỏi list và trả về chuỗi sau khi đã sắp xếp từ lớn đến bé.\n",
    "\n",
    "Do chuỗi trả về phải là lớn nhất nên ta cần tách các ký tự = \"0\" ra khỏi list, và chỉ thao tác với các số != 0. ***Chuỗi input có thể bắt đầu bằng các chữ số 0. Xâu “000” sẽ lớn hơn xâu “00”.*** Nên chuỗi trả về cần được cộng với chuỗi các số \"0\" trong chuỗi ban đầu.\n"
   ]
  },
  {
   "cell_type": "markdown",
   "metadata": {},
   "source": [
    "## 4. Code\n",
    "``` php\n",
    "\n",
    "arr = sorted(input().strip(),reverse = True)\n",
    "arr1 = [x for x in arr if int(x) % 3 != 0] # khong chia het cho 3\n",
    "    \n",
    "def check(arr):\n",
    "\tn = len(arr)\n",
    "\tn1 = len(arr1)\n",
    "\tcount_zeros = arr.count('0')\n",
    "\tif count_zeros == n:\n",
    "\t\treturn ''.join(['0']*count_zeros)\n",
    "\telse:\n",
    "\t\tarr = arr[:n-count_zeros]\n",
    "\t\tn = n-count_zeros\n",
    "\n",
    "\tsum_arr = sum(ord(x) - 48 for x in arr)\n",
    "\tif sum_arr % 3 == 0:\n",
    "\t\treturn ''.join(arr) + ''.join(['0']*count_zeros)\n",
    "\telse:\n",
    "\t\tremaind = sum_arr % 3\n",
    "\t\tfor i in range(n1-1,-1,-1):\n",
    "\t\t\tif int(arr1[i]) % 3 == remaind:\n",
    "\t\t\t\tarr.remove(arr1[i])\n",
    "\t\t\t\treturn ''.join(arr) + ''.join(['0']*count_zeros)\n",
    "\t\tfor i in range(n1-1,-1,-1):\n",
    "\t\t\tt = int(arr1[i])\n",
    "\t\t\tfor j in range(i-1,-1,-1):\n",
    "\t\t\t\tif (int(arr1[j]) + t)  % 3 == remaind:\n",
    "\t\t\t\t\tarr.remove(arr1[i])\n",
    "\t\t\t\t\tarr.remove(arr1[j])\n",
    "\t\t\t\t\treturn ''.join(arr) + ''.join(['0']*count_zeros)\n",
    "\treturn ''.join(['0']*count_zeros)\n",
    "print(check(arr))\n",
    "\n",
    "```"
   ]
  },
  {
   "cell_type": "markdown",
   "metadata": {},
   "source": []
  }
 ],
 "metadata": {
  "kernelspec": {
   "display_name": "Python 3",
   "language": "python",
   "name": "python3"
  },
  "language_info": {
   "codemirror_mode": {
    "name": "ipython",
    "version": 3
   },
   "file_extension": ".py",
   "mimetype": "text/x-python",
   "name": "python",
   "nbconvert_exporter": "python",
   "pygments_lexer": "ipython3",
   "version": "3.7.6"
  }
 },
 "nbformat": 4,
 "nbformat_minor": 4
}
